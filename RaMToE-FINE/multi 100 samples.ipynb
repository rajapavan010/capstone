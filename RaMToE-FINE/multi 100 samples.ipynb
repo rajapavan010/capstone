{
 "cells": [
  {
   "cell_type": "code",
   "execution_count": 1,
   "id": "c76e7b86",
   "metadata": {
    "scrolled": false
   },
   "outputs": [
    {
     "name": "stderr",
     "output_type": "stream",
     "text": [
      "\n",
      "[notice] A new release of pip available: 22.2.2 -> 25.0.1\n",
      "[notice] To update, run: python.exe -m pip install --upgrade pip\n",
      "\n",
      "[notice] A new release of pip available: 22.2.2 -> 25.0.1\n",
      "[notice] To update, run: python.exe -m pip install --upgrade pip\n",
      "\n",
      "[notice] A new release of pip available: 22.2.2 -> 25.0.1\n",
      "[notice] To update, run: python.exe -m pip install --upgrade pip\n",
      "\n",
      "[notice] A new release of pip available: 22.2.2 -> 25.0.1\n",
      "[notice] To update, run: python.exe -m pip install --upgrade pip\n",
      "\n",
      "[notice] A new release of pip available: 22.2.2 -> 25.0.1\n",
      "[notice] To update, run: python.exe -m pip install --upgrade pip\n"
     ]
    },
    {
     "name": "stdout",
     "output_type": "stream",
     "text": [
      "Requirement already satisfied: seaborn in c:\\users\\srmapcselab2022-147\\appdata\\local\\programs\\python\\python310\\lib\\site-packages (0.13.2)\n",
      "Requirement already satisfied: matplotlib!=3.6.1,>=3.4 in c:\\users\\srmapcselab2022-147\\appdata\\local\\programs\\python\\python310\\lib\\site-packages (from seaborn) (3.6.2)\n",
      "Requirement already satisfied: pandas>=1.2 in c:\\users\\srmapcselab2022-147\\appdata\\local\\programs\\python\\python310\\lib\\site-packages (from seaborn) (1.5.0)\n",
      "Requirement already satisfied: numpy!=1.24.0,>=1.20 in c:\\users\\srmapcselab2022-147\\appdata\\local\\programs\\python\\python310\\lib\\site-packages (from seaborn) (1.23.3)\n",
      "Requirement already satisfied: python-dateutil>=2.7 in c:\\users\\srmapcselab2022-147\\appdata\\local\\programs\\python\\python310\\lib\\site-packages (from matplotlib!=3.6.1,>=3.4->seaborn) (2.8.2)\n",
      "Requirement already satisfied: kiwisolver>=1.0.1 in c:\\users\\srmapcselab2022-147\\appdata\\local\\programs\\python\\python310\\lib\\site-packages (from matplotlib!=3.6.1,>=3.4->seaborn) (1.4.4)\n",
      "Requirement already satisfied: contourpy>=1.0.1 in c:\\users\\srmapcselab2022-147\\appdata\\local\\programs\\python\\python310\\lib\\site-packages (from matplotlib!=3.6.1,>=3.4->seaborn) (1.0.6)\n",
      "Requirement already satisfied: pillow>=6.2.0 in c:\\users\\srmapcselab2022-147\\appdata\\local\\programs\\python\\python310\\lib\\site-packages (from matplotlib!=3.6.1,>=3.4->seaborn) (9.3.0)\n",
      "Requirement already satisfied: fonttools>=4.22.0 in c:\\users\\srmapcselab2022-147\\appdata\\local\\programs\\python\\python310\\lib\\site-packages (from matplotlib!=3.6.1,>=3.4->seaborn) (4.38.0)\n",
      "Requirement already satisfied: pyparsing>=2.2.1 in c:\\users\\srmapcselab2022-147\\appdata\\local\\programs\\python\\python310\\lib\\site-packages (from matplotlib!=3.6.1,>=3.4->seaborn) (3.0.9)\n",
      "Requirement already satisfied: packaging>=20.0 in c:\\users\\srmapcselab2022-147\\appdata\\local\\programs\\python\\python310\\lib\\site-packages (from matplotlib!=3.6.1,>=3.4->seaborn) (21.3)\n",
      "Requirement already satisfied: cycler>=0.10 in c:\\users\\srmapcselab2022-147\\appdata\\local\\programs\\python\\python310\\lib\\site-packages (from matplotlib!=3.6.1,>=3.4->seaborn) (0.11.0)\n",
      "Requirement already satisfied: pytz>=2020.1 in c:\\users\\srmapcselab2022-147\\appdata\\local\\programs\\python\\python310\\lib\\site-packages (from pandas>=1.2->seaborn) (2022.2.1)\n",
      "Requirement already satisfied: six>=1.5 in c:\\users\\srmapcselab2022-147\\appdata\\local\\programs\\python\\python310\\lib\\site-packages (from python-dateutil>=2.7->matplotlib!=3.6.1,>=3.4->seaborn) (1.16.0)\n"
     ]
    },
    {
     "name": "stderr",
     "output_type": "stream",
     "text": [
      "\n",
      "[notice] A new release of pip available: 22.2.2 -> 25.0.1\n",
      "[notice] To update, run: python.exe -m pip install --upgrade pip\n"
     ]
    }
   ],
   "source": [
    "!pip install --quiet transformers\n",
    "!pip install --quiet sentencepiece\n",
    "!pip install --quiet datasets\n",
    "!pip install --quiet rouge_score\n",
    "! pip install --quiet  evaluate\n",
    "! pip install seaborn"
   ]
  },
  {
   "cell_type": "code",
   "execution_count": 2,
   "id": "bfbb5d69",
   "metadata": {},
   "outputs": [
    {
     "name": "stdout",
     "output_type": "stream",
     "text": [
      "(700, 5)\n",
      "                       id                                                url  \\\n",
      "0  international-53649907  https://www.bbc.com/telugu/international-53649907   \n",
      "1          india-46550604          https://www.bbc.com/telugu/india-46550604   \n",
      "2          india-43404438          https://www.bbc.com/telugu/india-43404438   \n",
      "3  international-54671956  https://www.bbc.com/telugu/international-54671956   \n",
      "4                53723894                https://www.bbc.com/telugu/53723894   \n",
      "\n",
      "                                               title  \\\n",
      "0  పాకిస్తాన్ ఎయిర్‌లైన్స్‌లో నకిలీ లైసెన్సుల పైల...   \n",
      "1  తెలంగాణ ముఖ్యమంత్రిగా కేసీఆర్ రెండోసారి ప్రమాణ...   \n",
      "2  ‘అధికారం కొన్ని కులాల గుప్పిట్లోనే ఉండాలా? కుద...   \n",
      "3  పోలండ్‌లో కొత్త అబార్షన్ చట్టాలను వ్యతిరేకిస్త...   \n",
      "4  దిల్లీ అల్లర్లపై పరస్పర విరుద్ధ నివేదికలు... ఏ...   \n",
      "\n",
      "                                             summary  \\\n",
      "0  పాకిస్తాన్ విమానయాన రంగంలో కొత్త సంక్షోభం మొదల...   \n",
      "1  తెలంగాణ ముఖ్యమంత్రిగా కల్వకుంట్ల చంద్రశేఖర్ రా...   \n",
      "2  గుంటూరులో జనసేన ఆవిర్భావ దినోత్సవ సభ జరిగింది....   \n",
      "3  పోలండ్‌లోని కొత్త అబార్షన్ చట్టాలకు వ్యతిరేకంగ...   \n",
      "4  ఈ ఏడాది ఫిబ్రవరిలో జరిగిన ఢిల్లీ హింసలో ఏ వర్గ...   \n",
      "\n",
      "                                                text  \n",
      "0  అయితే, ఆ జాబితా తప్పులతడకని పైలట్లు అంటున్నారు...  \n",
      "1  ఆ తరువాత ఆయన రెండోసారి ముఖ్యమంత్రిగా బాధ్యతలు ...  \n",
      "2  ప్రత్యేక హోదా సాధన, టీడీపీపై విమర్శలే ప్రధానాస...  \n",
      "3  గత ఏడాది చట్టబద్ధంగా జరిగిన అబార్షన్లలో 98% కడ...  \n",
      "4  అయితే, ఈ అంశంపై సొంతంగా విచారణ జరిపిన ఈ కమిటీల...  \n"
     ]
    }
   ],
   "source": [
    "from datasets import load_dataset\n",
    "import pandas as pd\n",
    "\n",
    "languages = [\"telugu\", \"urdu\", \"marathi\", \"hindi\", \"tamil\", \"bengali\", \"english\"]\n",
    "\n",
    "dfs = []\n",
    "for lang in languages:\n",
    "    dataset = load_dataset(\"csebuetnlp/xlsum\", lang, split=\"train[:100]\")\n",
    "    df = dataset.to_pandas()\n",
    "    dfs.append(df)\n",
    "\n",
    "df = pd.concat(dfs, ignore_index=True)\n",
    "\n",
    "print(df.shape)\n",
    "print(df.head())"
   ]
  },
  {
   "cell_type": "code",
   "execution_count": 3,
   "id": "6cfaa578",
   "metadata": {},
   "outputs": [],
   "source": [
    "import pandas as pd\n",
    "from transformers import AutoTokenizer, AutoModelForSeq2SeqLM\n",
    "from transformers import AdamW, get_scheduler\n",
    "\n",
    "import torch\n",
    "from torch.utils.data import Dataset, DataLoader\n",
    "from sklearn.model_selection import train_test_split\n",
    "\n",
    "from tqdm.auto import tqdm\n",
    "\n",
    "import seaborn as sns\n",
    "from pylab import rcParams\n",
    "import matplotlib.pyplot as plt\n",
    "from matplotlib import rc\n",
    "\n",
    "import warnings\n",
    "warnings.simplefilter(action='ignore', category=FutureWarning)\n",
    "import evaluate"
   ]
  },
  {
   "cell_type": "code",
   "execution_count": 4,
   "id": "f07bd641",
   "metadata": {
    "scrolled": true
   },
   "outputs": [
    {
     "name": "stderr",
     "output_type": "stream",
     "text": [
      "You are using the default legacy behaviour of the <class 'transformers.models.t5.tokenization_t5.T5Tokenizer'>. This is expected, and simply means that the `legacy` (previous) behavior will be used so nothing changes for you. If you want to use the new behaviour, set `legacy=False`. This should only be set if you understand what it means, and thoroughly read the reason why this was added as explained in https://github.com/huggingface/transformers/pull/24565\n",
      "C:\\Users\\SRMAPCSELAB2022-147\\AppData\\Local\\Programs\\Python\\Python310\\lib\\site-packages\\transformers\\convert_slow_tokenizer.py:561: UserWarning: The sentencepiece tokenizer that you are converting to a fast tokenizer uses the byte fallback option which is not implemented in the fast tokenizers. In practice this means that the fast version of the tokenizer can produce unknown tokens whereas the sentencepiece version would have converted these unknown tokens into a sequence of byte tokens matching the original piece of text.\n",
      "  warnings.warn(\n"
     ]
    }
   ],
   "source": [
    "tokenizer = AutoTokenizer.from_pretrained(\"csebuetnlp/mT5_multilingual_XLSum\")\n",
    "\n",
    "model = AutoModelForSeq2SeqLM.from_pretrained(\"csebuetnlp/mT5_multilingual_XLSum\")"
   ]
  },
  {
   "cell_type": "code",
   "execution_count": 5,
   "id": "a3890e0e",
   "metadata": {},
   "outputs": [],
   "source": [
    "class SummaryDataset(Dataset):\n",
    "    def __init__(\n",
    "        self,\n",
    "        data=df,\n",
    "        tokenizer=tokenizer,\n",
    "        text_max_token_len = 200,\n",
    "        summary_max_token_len = 12\n",
    "    ):\n",
    "        self.tokenizer = tokenizer\n",
    "        self.data = data\n",
    "        self.text_max_token_len = text_max_token_len\n",
    "        self.summary_max_token_len = summary_max_token_len\n",
    "\n",
    "    def __len__(self):\n",
    "        return len(self.data)\n",
    "\n",
    "    def __getitem__(self, index: int):\n",
    "        data_row = self.data.iloc[index]\n",
    "\n",
    "        text = data_row['text']\n",
    "\n",
    "        text_encoding = tokenizer(\n",
    "            text,\n",
    "            max_length=self.text_max_token_len,\n",
    "            padding='max_length',\n",
    "            truncation=True,\n",
    "            return_attention_mask=True,\n",
    "            add_special_tokens=True,\n",
    "            return_tensors='pt'\n",
    "        )\n",
    "\n",
    "        summary_encoding = tokenizer(\n",
    "            data_row['summary'],\n",
    "            max_length=self.summary_max_token_len,\n",
    "            padding='max_length',\n",
    "            truncation=True,\n",
    "            return_attention_mask=True,\n",
    "            add_special_tokens=True,\n",
    "            return_tensors='pt'\n",
    "        )\n",
    "\n",
    "        labels = summary_encoding['input_ids']\n",
    "        labels[labels == tokenizer.pad_token_id] = -100\n",
    "\n",
    "        return dict(\n",
    "            input_ids=text_encoding['input_ids'].flatten(),\n",
    "            attention_mask=text_encoding['attention_mask'].flatten(),\n",
    "            labels=labels.flatten(),\n",
    "            decoder_attention_mask=summary_encoding['attention_mask'].flatten()\n",
    "        )"
   ]
  },
  {
   "cell_type": "code",
   "execution_count": 6,
   "id": "c780c7ff",
   "metadata": {},
   "outputs": [],
   "source": [
    "df_train, df_test = train_test_split(df, test_size=0.2, random_state=42)\n",
    "\n",
    "train_dataset = SummaryDataset(data=df_train)\n",
    "test_dataset = SummaryDataset(data=df_test)\n",
    "\n",
    "train_dataloader = DataLoader(train_dataset, shuffle=True, batch_size=10)\n",
    "eval_dataloader = DataLoader(test_dataset, batch_size=10)"
   ]
  },
  {
   "cell_type": "code",
   "execution_count": 7,
   "id": "3957f4c7",
   "metadata": {},
   "outputs": [
    {
     "data": {
      "application/vnd.jupyter.widget-view+json": {
       "model_id": "2bc0ab71b4274ba780249d4415eb2938",
       "version_major": 2,
       "version_minor": 0
      },
      "text/plain": [
       "  0%|          | 0/280 [00:00<?, ?it/s]"
      ]
     },
     "metadata": {},
     "output_type": "display_data"
    },
    {
     "name": "stderr",
     "output_type": "stream",
     "text": [
      "Passing a tuple of `past_key_values` is deprecated and will be removed in Transformers v4.48.0. You should pass an instance of `EncoderDecoderCache` instead, e.g. `past_key_values=EncoderDecoderCache.from_legacy_cache(past_key_values)`.\n"
     ]
    },
    {
     "name": "stdout",
     "output_type": "stream",
     "text": [
      "epoch: 1 -- loss: 2.762282371520996\n",
      "epoch: 2 -- loss: 1.270188570022583\n",
      "epoch: 3 -- loss: 0.47736600041389465\n",
      "epoch: 4 -- loss: 0.17772839963436127\n",
      "epoch: 5 -- loss: 0.12911944091320038\n"
     ]
    }
   ],
   "source": [
    "num_epochs = 5\n",
    "\n",
    "num_training_steps = num_epochs * len(train_dataloader)\n",
    "\n",
    "optimizer = AdamW(model.parameters())\n",
    "lr_scheduler = get_scheduler(\n",
    "    \"linear\",\n",
    "    optimizer=optimizer,\n",
    "    num_warmup_steps=0,\n",
    "    num_training_steps=num_training_steps\n",
    ")\n",
    "\n",
    "progress_bar = tqdm(range(num_training_steps))\n",
    "\n",
    "device = torch.device(\"cuda\" if torch.cuda.is_available() else \"cpu\")\n",
    "model = model.to(device)\n",
    "\n",
    "model.train()\n",
    "for epoch in range(num_epochs):\n",
    "    for batch in train_dataloader:\n",
    "        batch = {k: v.to(device) for k, v in batch.items()}\n",
    "\n",
    "        outputs = model(**batch)\n",
    "#         logits = outputs.logits\n",
    "#         predictions = torch.argmax(logits, dim=-1)\n",
    "#         print(predictions)\n",
    "#         print(batch[\"labels\"])\n",
    "\n",
    "        loss = outputs.loss\n",
    "        loss.backward()\n",
    "\n",
    "        optimizer.step()\n",
    "        lr_scheduler.step()\n",
    "\n",
    "        optimizer.zero_grad()\n",
    "        progress_bar.update()\n",
    "\n",
    "\n",
    "    print(f'epoch: {epoch + 1} -- loss: {loss}')"
   ]
  },
  {
   "cell_type": "code",
   "execution_count": 8,
   "id": "949ef535",
   "metadata": {},
   "outputs": [
    {
     "name": "stdout",
     "output_type": "stream",
     "text": [
      "ROUGE Score: {'rouge1': 0.051275817681998584, 'rouge2': 0.019011183144586503, 'rougeL': 0.04853775653311257, 'rougeLsum': 0.04801657133838691}\n",
      "BLEU Score: {'bleu': 0.065906569860685, 'precisions': [0.2376502002670227, 0.09523809523809523, 0.04051172707889126, 0.024024024024024024], 'brevity_penalty': 0.9620216810900619, 'length_ratio': 0.9627249357326478, 'translation_length': 749, 'reference_length': 778}\n"
     ]
    }
   ],
   "source": [
    "import torch\n",
    "import evaluate\n",
    "\n",
    "rouge = evaluate.load(\"rouge\")\n",
    "bleu = evaluate.load(\"bleu\")\n",
    "\n",
    "model.eval()\n",
    "\n",
    "all_predictions = []\n",
    "all_references = []\n",
    "\n",
    "device = torch.device(\"cuda\" if torch.cuda.is_available() else \"cpu\")\n",
    "\n",
    "for batch in eval_dataloader:\n",
    "    batch = {k: v.to(device) for k, v in batch.items()}\n",
    "\n",
    "    with torch.no_grad():\n",
    "        outputs = model(**batch)\n",
    "\n",
    "    logits = outputs.logits\n",
    "    predictions = torch.argmax(logits, dim=-1)\n",
    "\n",
    "    decoded_predictions = tokenizer.batch_decode(predictions, skip_special_tokens=True)\n",
    "\n",
    "    decoded_references = tokenizer.batch_decode(\n",
    "        [\n",
    "            [token_id if token_id != -100 else tokenizer.pad_token_id for token_id in seq]\n",
    "            for seq in batch[\"labels\"]\n",
    "        ],\n",
    "        skip_special_tokens=True\n",
    "    )\n",
    "\n",
    "    all_predictions.extend(decoded_predictions)\n",
    "    all_references.extend(decoded_references)\n",
    "\n",
    "rouge_score = rouge.compute(predictions=all_predictions, references=all_references)\n",
    "bleu_score = bleu.compute(predictions=all_predictions, references=all_references)\n",
    "\n",
    "print(\"ROUGE Score:\", rouge_score)\n",
    "print(\"BLEU Score:\", bleu_score)"
   ]
  }
 ],
 "metadata": {
  "kernelspec": {
   "display_name": "Python 3 (ipykernel)",
   "language": "python",
   "name": "python3"
  },
  "language_info": {
   "codemirror_mode": {
    "name": "ipython",
    "version": 3
   },
   "file_extension": ".py",
   "mimetype": "text/x-python",
   "name": "python",
   "nbconvert_exporter": "python",
   "pygments_lexer": "ipython3",
   "version": "3.10.7"
  }
 },
 "nbformat": 4,
 "nbformat_minor": 5
}
